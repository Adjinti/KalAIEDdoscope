{
  "nbformat": 4,
  "nbformat_minor": 0,
  "metadata": {
    "colab": {
      "provenance": [],
      "authorship_tag": "ABX9TyOQAUTZ3vbEqQQUKX7tGlRu",
      "include_colab_link": true
    },
    "kernelspec": {
      "name": "python3",
      "display_name": "Python 3"
    },
    "language_info": {
      "name": "python"
    }
  },
  "cells": [
    {
      "cell_type": "markdown",
      "metadata": {
        "id": "view-in-github",
        "colab_type": "text"
      },
      "source": [
        "<a href=\"https://colab.research.google.com/github/Adjinti/KalAIEDdoscope/blob/main/nico/24_06_08_KalAiedoscope_collaboration_agreement.ipynb\" target=\"_parent\"><img src=\"https://colab.research.google.com/assets/colab-badge.svg\" alt=\"Open In Colab\"/></a>"
      ]
    },
    {
      "cell_type": "markdown",
      "source": [
        "# Introduction\n",
        "\n",
        "## 1.1. Background and Context\n",
        "\n",
        "This collaboration is centered around developing learner-led, concept-based educational opportunities that are responsive to future challenges through innovative use of AI technologies. This collaboration aims to acquire long-term funding for a PhD student's research on “the responsible use of AI in education guidance” and explore potential EU-funded programs like ERASMUS+ or HORIZON 2030, with plans for Beta-testing GEM and ADJINTI in European schools by the academic year 2025-26.\n",
        "\n",
        "The project will leverage a combination of AI models and the pedagogical model “GEM” under the intellectual property rights held by Lu Gerlach and Neil Evans.\n",
        "\n",
        "## 1.2. Parties Involved\n",
        "\n",
        "The key parties involved in this initial 3-month collaboration are:\n",
        "\n",
        "1. Université Libre de Bruxelles (ULB), represented by Dimitris Sacharidis, professor, and Antoine Rault, student under Dimitris' supervision.\n",
        "2. Adjinti, a startup developing an AI-empowered framework to assist learners in their educational journey. Adjinti is represented by Nicolas de Barquin and Neil Evans.\n",
        "3. GEM, a pedagogical model under the intellectual property rights of Lu Gerlach and Neil Evans.\n",
        "\n",
        "note:\n",
        "- \"Adjinti\" is not yet incorporated,\n",
        "- \"GEM\" is not a legal structure,\n",
        "- The parties CARDET (represented by Constantinos Monos) and the two participating flagship schools in Brussels and Limassol are stakeholders for later collaborations, but they are not directly involved in this initial 3-month project.\n",
        "\n",
        "## 1.3. Purpose of the Agreement\n",
        "\n",
        "The agreement aims to establish a collaboration that tests AI-driven educational technologies while adhering to responsible use guidelines, contributing academic knowledge through research supervised by Dimitris, and expanding educational opportunities across Europe with support from EU funding. It involves collaboration between various stakeholders in education, technology, and innovation to create a sustainable framework for leveraging AI in enhancing learner-led education systems."
      ],
      "metadata": {
        "id": "LkK7-mOPlhsh"
      }
    },
    {
      "cell_type": "markdown",
      "source": [
        "## Objectives and Key Results\n",
        "\n",
        "2.1. Objectives of the Collaboration  \n",
        "2.2. Key Results and Deliverables\n",
        "\n",
        "## Scope and Duration\n",
        "\n",
        "3.1. Scope of Work  \n",
        "3.2. Collaboration Period\n",
        "\n",
        "## Responsibilities and Contributions\n",
        "\n",
        "4.1. Responsibilities of Each Party  \n",
        "4.2. Resource Contributions\n",
        "\n",
        "## Intellectual Property and Ownership\n",
        "\n",
        "5.1. Existing Intellectual Property  \n",
        "5.2. Ownership of Collaborative Work  \n",
        "5.3. Confidentiality and Non-Disclosure\n",
        "\n",
        "## Publication and Dissemination\n",
        "\n",
        "6.1. Open-Source Approach  \n",
        "6.2. Choice of Open-Source License  \n",
        "6.3. Publication Guidelines\n",
        "\n",
        "## Communication and Collaboration Platform\n",
        "\n",
        "7.1. Discord Server Setup  \n",
        "7.2. Communication Protocols\n",
        "\n",
        "## Risk Acknowledgment and Mitigation\n",
        "\n",
        "8.1. Potential Risks  \n",
        "8.2. Risk Mitigation Strategies\n",
        "\n",
        "## Future Collaboration Opportunities\n",
        "\n",
        "9.1. Erasmus+ Project Exploration  \n",
        "9.2. Innoviris Grant Application  \n",
        "9.3. Other Potential Initiatives\n",
        "\n",
        "## General Provisions\n",
        "\n",
        "10.1. Termination  \n",
        "10.2. Dispute Resolution  \n",
        "10.3. Amendments and Modifications\n",
        "\n",
        "## Signatures and Effective Date"
      ],
      "metadata": {
        "id": "9ux9vEmtoVLB"
      }
    }
  ]
}